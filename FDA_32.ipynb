{
 "cells": [
  {
   "cell_type": "code",
   "execution_count": 1,
   "metadata": {},
   "outputs": [],
   "source": [
    "import numpy as np\n",
    "%matplotlib inline\n",
    "import matplotlib.pyplot as plt\n",
    "from matplotlib.pyplot import figure\n",
    "train = np.loadtxt('BovW/training_2b_32')\n",
    "from sklearn.discriminant_analysis import LinearDiscriminantAnalysis as LDA\n",
    "model = LDA(n_components=2)\n",
    "X1 = np.loadtxt(\"BovW/training_2b_c1_32\")    \n",
    "X2 = np.loadtxt(\"BovW/training_2b_c2_32\")\n",
    "X3 = np.loadtxt(\"BovW/training_2b_c3_32\")"
   ]
  },
  {
   "cell_type": "code",
   "execution_count": 2,
   "metadata": {},
   "outputs": [],
   "source": [
    "X = np.array([X1,X2,X3])\n",
    "d = X1[0].shape[0]"
   ]
  },
  {
   "cell_type": "code",
   "execution_count": 3,
   "metadata": {},
   "outputs": [],
   "source": [
    "mean_vectors = []\n",
    "for i in range(0,3):\n",
    "    mean_vectors.append(np.mean(X[i], axis=0))"
   ]
  },
  {
   "cell_type": "code",
   "execution_count": 4,
   "metadata": {},
   "outputs": [],
   "source": [
    "S_W = np.zeros((d,d))\n",
    "for cl,mv in zip(range(0,3), mean_vectors):\n",
    "    class_sc_mat = np.cov(X[i].T) * len(X[i])\n",
    "    S_W += class_sc_mat   \n"
   ]
  },
  {
   "cell_type": "code",
   "execution_count": 5,
   "metadata": {},
   "outputs": [
    {
     "name": "stdout",
     "output_type": "stream",
     "text": [
      "(32, 32)\n"
     ]
    }
   ],
   "source": [
    "s1 = np.sum(X1,axis = 0)\n",
    "s2 = np.sum(X2,axis = 0)\n",
    "s3 = np.sum(X3,axis = 0)\n",
    "overall_mean = (s1+s1+s3)/(len(X1)+len(X2)+len(X3))\n",
    "S_B = np.zeros((d,d))\n",
    "for i,mean_vec in enumerate(mean_vectors):  \n",
    "    n = len(X[i])\n",
    "    mean_vec = mean_vec.reshape(d,1) # make column vector\n",
    "    overall_mean = overall_mean.reshape(d,1) # make column vector\n",
    "#     print (mean_vec - overall_mean).dot((mean_vec - overall_mean).T)\n",
    "    S_B += n * (mean_vec - overall_mean).dot((mean_vec - overall_mean).T)\n",
    "\n",
    "print S_B.shape"
   ]
  },
  {
   "cell_type": "code",
   "execution_count": 6,
   "metadata": {},
   "outputs": [],
   "source": [
    "eig_vals, eig_vecs = np.linalg.eig(np.linalg.inv(S_W).dot(S_B))"
   ]
  },
  {
   "cell_type": "code",
   "execution_count": 12,
   "metadata": {},
   "outputs": [
    {
     "name": "stdout",
     "output_type": "stream",
     "text": [
      "Eigenvalues in decreasing order:\n",
      "\n",
      "3031.6318303839935\n",
      "340.053511779973\n",
      "4.4277230923159383e-13\n",
      "4.4277230923159383e-13\n",
      "4.3181410309299926e-13\n",
      "2.1750256338641843e-13\n",
      "2.1750256338641843e-13\n",
      "1.7569085673631144e-13\n",
      "1.7569085673631144e-13\n",
      "1.2934844190161119e-13\n",
      "1.1535217225855376e-13\n",
      "1.1337692315781194e-13\n",
      "1.1337692315781194e-13\n",
      "9.264899446990709e-14\n",
      "9.264899446990709e-14\n",
      "8.237501139299575e-14\n",
      "7.647854198294121e-14\n",
      "7.647854198294121e-14\n",
      "7.302830946522467e-14\n",
      "7.302830946522467e-14\n",
      "7.118439213742175e-14\n",
      "7.118439213742175e-14\n",
      "5.73084990362088e-14\n",
      "5.73084990362088e-14\n",
      "5.2862937960616923e-14\n",
      "5.2862937960616923e-14\n",
      "4.894435947343502e-14\n",
      "3.071670492703337e-14\n",
      "2.234907542863926e-14\n",
      "2.234907542863926e-14\n",
      "5.8998236408885846e-15\n",
      "4.974452511940962e-15\n"
     ]
    }
   ],
   "source": [
    "eig_pairs = [(np.abs(eig_vals[i]), eig_vecs[:,i]) for i in range(len(eig_vals))]\n",
    "\n",
    "# Sort the (eigenvalue, eigenvector) tuples from high to low\n",
    "eig_pairs = sorted(eig_pairs, key=lambda k: k[0], reverse=True)\n",
    "\n",
    "# Visually confirm that the list is correctly sorted by decreasing eigenvalues\n",
    "\n",
    "print('Eigenvalues in decreasing order:\\n')\n",
    "for i in eig_pairs:\n",
    "    print(i[0])"
   ]
  },
  {
   "cell_type": "code",
   "execution_count": 13,
   "metadata": {},
   "outputs": [],
   "source": [
    "W = np.hstack((eig_pairs[0][1].reshape(d,1), eig_pairs[1][1].reshape(d,1)))"
   ]
  },
  {
   "cell_type": "code",
   "execution_count": 14,
   "metadata": {},
   "outputs": [],
   "source": [
    "files = [\"training_2b_32\",\"test_2b_32\",\"test_2b_32_c1\",\"test_2b_32_c2\",\"test_2b_32_c3\",\"training_2b_c1_32\",\"training_2b_c2_32\",\"training_2b_c3_32\"]\n",
    "for file in files:\n",
    "    data = np.loadtxt(\"BovW/\"+file)\n",
    "    p = data.dot(W.real)\n",
    "    np.savetxt(\"BovW/FDA/\"+file, p)"
   ]
  },
  {
   "cell_type": "code",
   "execution_count": 18,
   "metadata": {},
   "outputs": [
    {
     "data": {
      "text/plain": [
       "<matplotlib.legend.Legend at 0x7f2ff6e5b250>"
      ]
     },
     "execution_count": 18,
     "metadata": {},
     "output_type": "execute_result"
    },
    {
     "data": {
      "image/png": "[encoded data removed]",
      "text/plain": [
       "<matplotlib.figure.Figure at 0x7f2ff6b86c90>"
      ]
     },
     "metadata": {},
     "output_type": "display_data"
    }
   ],
   "source": [
    "c2={}\n",
    "c2[1]='#2979FF'\n",
    "c2[2]='#388E3C'\n",
    "c2[3]='#FF6E40'\n",
    "\n",
    "newX = np.loadtxt(\"BovW/FDA/training_2b_c1_32\")   \n",
    "x = []\n",
    "y = []\n",
    "for i in newX:\n",
    "    x.append(i[0])\n",
    "    y.append(i[1])\n",
    "plt.plot(x,y,c=c2[1],marker='*',linestyle='None',label=\"Class-1\")\n",
    "newX = np.loadtxt(\"BovW/FDA/training_2b_c2_32\")   \n",
    "x = []\n",
    "y = []\n",
    "for i in newX:\n",
    "    x.append(i[0])\n",
    "    y.append(i[1])\n",
    "plt.plot(x,y,c=c2[2],marker='*',linestyle='None',label=\"Class-2\")\n",
    "newX = np.loadtxt(\"BovW/FDA/training_2b_c3_32\")   \n",
    "x = []\n",
    "y = []\n",
    "for i in newX:\n",
    "    x.append(i[0])\n",
    "    y.append(i[1])\n",
    "plt.plot(x,y,c=c2[3],marker='*',linestyle='None',label=\"Class-3\")\n",
    "plt.legend(loc='upper right')"
   ]
  },
  {
   "cell_type": "code",
   "execution_count": null,
   "metadata": {},
   "outputs": [],
   "source": []
  },
  {
   "cell_type": "code",
   "execution_count": null,
   "metadata": {},
   "outputs": [],
   "source": []
  }
 ],
 "metadata": {
  "kernelspec": {
   "display_name": "Python 2",
   "language": "python",
   "name": "python2"
  },
  "language_info": {
   "codemirror_mode": {
    "name": "ipython",
    "version": 2
   },
   "file_extension": ".py",
   "mimetype": "text/x-python",
   "name": "python",
   "nbconvert_exporter": "python",
   "pygments_lexer": "ipython2",
   "version": "2.7.15rc1"
  }
 },
 "nbformat": 4,
 "nbformat_minor": 2
}
