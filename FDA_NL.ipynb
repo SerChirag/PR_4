{
 "cells": [
  {
   "cell_type": "code",
   "execution_count": 1,
   "metadata": {},
   "outputs": [],
   "source": [
    "import numpy as np\n",
    "%matplotlib inline\n",
    "import matplotlib.pyplot as plt\n",
    "from matplotlib.pyplot import figure\n",
    "from sklearn.discriminant_analysis import LinearDiscriminantAnalysis as LDA\n",
    "model = LDA(n_components=2)\n",
    "X1 = np.loadtxt(\"NLS_Group05/Class1.txt\")    \n",
    "X2 = np.loadtxt(\"NLS_Group05/Class2.txt\")"
   ]
  },
  {
   "cell_type": "code",
   "execution_count": 2,
   "metadata": {},
   "outputs": [],
   "source": [
    "X = np.array([X1,X2])\n",
    "d = X1[0].shape[0]"
   ]
  },
  {
   "cell_type": "code",
   "execution_count": 4,
   "metadata": {},
   "outputs": [],
   "source": [
    "mean_vectors = []\n",
    "for i in range(0,2):\n",
    "    mean_vectors.append(np.mean(X[i], axis=0))"
   ]
  },
  {
   "cell_type": "code",
   "execution_count": 5,
   "metadata": {},
   "outputs": [],
   "source": [
    "S_W = np.zeros((d,d))\n",
    "for cl,mv in zip(range(0,2), mean_vectors):\n",
    "    class_sc_mat = np.cov(X[i].T) * len(X[i])\n",
    "    S_W += class_sc_mat   \n"
   ]
  },
  {
   "cell_type": "code",
   "execution_count": 8,
   "metadata": {},
   "outputs": [
    {
     "name": "stdout",
     "output_type": "stream",
     "text": [
      "(2, 2)\n"
     ]
    }
   ],
   "source": [
    "s1 = np.sum(X1,axis = 0)\n",
    "s2 = np.sum(X2,axis = 0)\n",
    "overall_mean = (s1+s1)/(len(X1)+len(X2))\n",
    "S_B = np.zeros((d,d))\n",
    "for i,mean_vec in enumerate(mean_vectors):  \n",
    "    n = len(X[i])\n",
    "    mean_vec = mean_vec.reshape(d,1) # make column vector\n",
    "    overall_mean = overall_mean.reshape(d,1) # make column vector\n",
    "#     print (mean_vec - overall_mean).dot((mean_vec - overall_mean).T)\n",
    "    S_B += n * (mean_vec - overall_mean).dot((mean_vec - overall_mean).T)\n",
    "\n",
    "print S_B.shape"
   ]
  },
  {
   "cell_type": "code",
   "execution_count": 9,
   "metadata": {},
   "outputs": [],
   "source": [
    "eig_vals, eig_vecs = np.linalg.eig(np.linalg.inv(S_W).dot(S_B))"
   ]
  },
  {
   "cell_type": "code",
   "execution_count": 10,
   "metadata": {},
   "outputs": [
    {
     "name": "stdout",
     "output_type": "stream",
     "text": [
      "Eigenvalues in decreasing order:\n",
      "\n",
      "0.10674099544760698\n",
      "1.3877787807814457e-17\n"
     ]
    }
   ],
   "source": [
    "eig_pairs = [(np.abs(eig_vals[i]), eig_vecs[:,i]) for i in range(len(eig_vals))]\n",
    "\n",
    "# Sort the (eigenvalue, eigenvector) tuples from high to low\n",
    "eig_pairs = sorted(eig_pairs, key=lambda k: k[0], reverse=True)\n",
    "\n",
    "# Visually confirm that the list is correctly sorted by decreasing eigenvalues\n",
    "\n",
    "print('Eigenvalues in decreasing order:\\n')\n",
    "for i in eig_pairs:\n",
    "    print(i[0])"
   ]
  },
  {
   "cell_type": "code",
   "execution_count": 17,
   "metadata": {},
   "outputs": [],
   "source": [
    "W = np.hstack((eig_pairs[0][1].reshape(d,1)))"
   ]
  },
  {
   "cell_type": "code",
   "execution_count": 18,
   "metadata": {},
   "outputs": [],
   "source": [
    "files = [\"Class1.txt\",\"Class2.txt\"]\n",
    "for file in files:\n",
    "    data = np.loadtxt(\"NLS_Group05/\"+file)\n",
    "    p = data.dot(W.real)\n",
    "    np.savetxt(\"NLS_Group05/FDA/\"+file, p)"
   ]
  },
  {
   "cell_type": "code",
   "execution_count": 20,
   "metadata": {},
   "outputs": [
    {
     "data": {
      "text/plain": [
       "<matplotlib.collections.PathCollection at 0x7efe2e12b210>"
      ]
     },
     "execution_count": 20,
     "metadata": {},
     "output_type": "execute_result"
    },
    {
     "data": {
      "image/png": "[encoded data removed]",
      "text/plain": [
       "<matplotlib.figure.Figure at 0x7efe2e2730d0>"
      ]
     },
     "metadata": {},
     "output_type": "display_data"
    }
   ],
   "source": [
    "newX = np.loadtxt(\"NLS_Group05/FDA/Class1.txt\")   \n",
    "x = []\n",
    "y = []\n",
    "for i in newX:\n",
    "    x.append(i)\n",
    "    y.append(0)\n",
    "plt.scatter(x,y,color=\"r\")\n",
    "newX = np.loadtxt(\"NLS_Group05/FDA/Class2.txt\")   \n",
    "x = []\n",
    "y = []\n",
    "for i in newX:\n",
    "    x.append(i)\n",
    "    y.append(1)\n",
    "plt.scatter(x,y,color=\"g\")"
   ]
  },
  {
   "cell_type": "code",
   "execution_count": null,
   "metadata": {},
   "outputs": [],
   "source": []
  }
 ],
 "metadata": {
  "kernelspec": {
   "display_name": "Python 2",
   "language": "python",
   "name": "python2"
  },
  "language_info": {
   "codemirror_mode": {
    "name": "ipython",
    "version": 2
   },
   "file_extension": ".py",
   "mimetype": "text/x-python",
   "name": "python",
   "nbconvert_exporter": "python",
   "pygments_lexer": "ipython2",
   "version": "2.7.15rc1"
  }
 },
 "nbformat": 4,
 "nbformat_minor": 2
}
